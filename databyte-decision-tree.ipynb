{
 "cells": [
  {
   "cell_type": "code",
   "execution_count": 1,
   "id": "131f14f2",
   "metadata": {
    "execution": {
     "iopub.execute_input": "2023-07-15T08:10:52.904603Z",
     "iopub.status.busy": "2023-07-15T08:10:52.904263Z",
     "iopub.status.idle": "2023-07-15T08:10:54.188126Z",
     "shell.execute_reply": "2023-07-15T08:10:54.187147Z"
    },
    "papermill": {
     "duration": 1.293109,
     "end_time": "2023-07-15T08:10:54.190366",
     "exception": false,
     "start_time": "2023-07-15T08:10:52.897257",
     "status": "completed"
    },
    "tags": []
   },
   "outputs": [
    {
     "name": "stderr",
     "output_type": "stream",
     "text": [
      "/opt/conda/lib/python3.10/site-packages/scipy/__init__.py:146: UserWarning: A NumPy version >=1.16.5 and <1.23.0 is required for this version of SciPy (detected version 1.23.5\n",
      "  warnings.warn(f\"A NumPy version >={np_minversion} and <{np_maxversion}\"\n"
     ]
    }
   ],
   "source": [
    "# IMPORTING LIBRARIES.\n",
    "import numpy as np\n",
    "import pandas as pd\n",
    "import statistics as stats\n",
    "import seaborn as sns\n",
    "import matplotlib.pyplot as plt"
   ]
  },
  {
   "cell_type": "markdown",
   "id": "11d2c20b",
   "metadata": {
    "papermill": {
     "duration": 0.00471,
     "end_time": "2023-07-15T08:10:54.200538",
     "exception": false,
     "start_time": "2023-07-15T08:10:54.195828",
     "status": "completed"
    },
    "tags": []
   },
   "source": [
    "# LOADING THE DATASET."
   ]
  },
  {
   "cell_type": "code",
   "execution_count": 2,
   "id": "5f6863c0",
   "metadata": {
    "execution": {
     "iopub.execute_input": "2023-07-15T08:10:54.212345Z",
     "iopub.status.busy": "2023-07-15T08:10:54.211516Z",
     "iopub.status.idle": "2023-07-15T08:10:54.839725Z",
     "shell.execute_reply": "2023-07-15T08:10:54.838206Z"
    },
    "papermill": {
     "duration": 0.636779,
     "end_time": "2023-07-15T08:10:54.842354",
     "exception": false,
     "start_time": "2023-07-15T08:10:54.205575",
     "status": "completed"
    },
    "tags": []
   },
   "outputs": [],
   "source": [
    "data=pd.read_excel(r'/kaggle/input/red-wine-dataset-from-uci-repository/REDWINE DATASET.xlsx')"
   ]
  },
  {
   "cell_type": "markdown",
   "id": "810c21a4",
   "metadata": {
    "papermill": {
     "duration": 0.004696,
     "end_time": "2023-07-15T08:10:54.852379",
     "exception": false,
     "start_time": "2023-07-15T08:10:54.847683",
     "status": "completed"
    },
    "tags": []
   },
   "source": [
    "# CREATING THE CLASS TO IMPLEMENT THE DECISION TREE."
   ]
  },
  {
   "cell_type": "markdown",
   "id": "9b0ea1c0",
   "metadata": {
    "papermill": {
     "duration": 0.004712,
     "end_time": "2023-07-15T08:10:54.861966",
     "exception": false,
     "start_time": "2023-07-15T08:10:54.857254",
     "status": "completed"
    },
    "tags": []
   },
   "source": [
    "# NODE CLASS"
   ]
  },
  {
   "cell_type": "code",
   "execution_count": 3,
   "id": "e462c259",
   "metadata": {
    "execution": {
     "iopub.execute_input": "2023-07-15T08:10:54.875100Z",
     "iopub.status.busy": "2023-07-15T08:10:54.874563Z",
     "iopub.status.idle": "2023-07-15T08:10:54.881082Z",
     "shell.execute_reply": "2023-07-15T08:10:54.879930Z"
    },
    "papermill": {
     "duration": 0.015654,
     "end_time": "2023-07-15T08:10:54.883393",
     "exception": false,
     "start_time": "2023-07-15T08:10:54.867739",
     "status": "completed"
    },
    "tags": []
   },
   "outputs": [],
   "source": [
    "# CLASS TO STORE THE ATTRIBUTES OF THE TWO TYPES OF NODES i.e. DECISION NODE AND THE LEAF NODE.\n",
    "class NODE():\n",
    "    def __init__(self,feature_index=None,threshold=None,left_child=None,right_child=None,info_gain=None,value=None):\n",
    "        \n",
    "        # ATTRIBUTES FOR THE DECISION NODE\n",
    "        self.feature_index=feature_index  # USED TO STORE WHICH FEATURE SHOULD BE CHOOSED FOR THE PARTICULAR NODE TO MINIMIZE THE INFOMATION GAIN.\n",
    "        self.threshold=threshold          # USED TO CLASSIFYING VALUE OF THAT PARTICULAR FEATURE WHICH HELPS US TO MOVE THE POINT EITHER IN THE RIGHT NODE OR IN THE LEFT NODE.\n",
    "        self.left_child=left_child        # TO STORE THE INFORMATION OF THE LEFT CHILD\n",
    "        self.right_child=right_child      # TO STORE THE INFORMATION OF THE RIGHT CHILD\n",
    "        self.info_gain=info_gain          # USED TO STORE THE GAIN OF THE BEST SPLIT \n",
    "        \n",
    "        #ATTRIBUTES FOR LEAF NODE\n",
    "        self.value=value\n",
    "        "
   ]
  },
  {
   "cell_type": "markdown",
   "id": "8dbf8488",
   "metadata": {
    "papermill": {
     "duration": 0.004702,
     "end_time": "2023-07-15T08:10:54.893451",
     "exception": false,
     "start_time": "2023-07-15T08:10:54.888749",
     "status": "completed"
    },
    "tags": []
   },
   "source": [
    "# CLASS TO BUILD THE DECISION TREE."
   ]
  },
  {
   "cell_type": "code",
   "execution_count": 4,
   "id": "a5482db6",
   "metadata": {
    "execution": {
     "iopub.execute_input": "2023-07-15T08:10:54.907016Z",
     "iopub.status.busy": "2023-07-15T08:10:54.906669Z",
     "iopub.status.idle": "2023-07-15T08:10:54.928377Z",
     "shell.execute_reply": "2023-07-15T08:10:54.926607Z"
    },
    "papermill": {
     "duration": 0.032097,
     "end_time": "2023-07-15T08:10:54.930416",
     "exception": false,
     "start_time": "2023-07-15T08:10:54.898319",
     "status": "completed"
    },
    "tags": []
   },
   "outputs": [],
   "source": [
    "class TREE():\n",
    "    # CONSTRUCTOR TO DEFINE THE MINIMUM NUMBER OF SAMPLES WHICH SHOULD BE THERE IN THE NODE TO MOVE TO FURTHER DEPTH AND TO DEFINE MAXIMUM DEPTH OF THE TREE.\n",
    "    def __init__(self,min_samples=2,max_depth=2):\n",
    "        self.root=None\n",
    "        self.min_samples=min_samples\n",
    "        self.max_depth=max_depth\n",
    "    # FUCNTION TO BUILD THE DECISION TREE.\n",
    "    def Build_Tree(self,dataset,curr_depth=0):\n",
    "        # EXTRACTING THE FEATURES AND THE LABEL.\n",
    "        x,y=dataset[:,:-1],dataset[:,-1]\n",
    "        # FINDING THE DIMENSIONS OF THE DATASET.\n",
    "        n_samples,n_features=np.shape(x)\n",
    "        # CONDITION TO STOP THE RECCURSION AS THIS FUCTION IS RECCURSIVE WHICH IS USED TO GENENREATE THE TREE.\n",
    "        if n_samples>=self.min_samples and curr_depth<=self.max_depth:\n",
    "            # CALLING THE BEST SPLIT FUCNTION WHICH RETURENS THE DICTIONAR CONTAINING FEATURE, THRESHOLD, LEFT CHILD, RIGHT CHILD,INFORMATION GAIN FOR THE GIVEN NODE.\n",
    "            best_split=self.get_best_split(dataset,n_samples,n_features)\n",
    "            # APPLYING THE RECCURSIVE APPROACH TO MOVE FORWARD TO CREATED CHILD NOODES\n",
    "            if best_split['info_gain']>0 :   \n",
    "                          left_subtree=self.Build_Tree(best_split['dataset_left'],curr_depth+1)\n",
    "                          right_subtree=self.Build_Tree(best_split['dataset_right'],curr_depth+1)\n",
    "                          return NODE(best_split['feature_index'],best_split['threshold'],left_subtree,right_subtree,best_split['info_gain'])\n",
    "        # RETURNING THE CLASS HAVING MAXIXMUM CONTRIBUTION IN A PARTICULAR LEAF NODE TO DETERMINE THE CLASS DURING PREDICTION OF THE TEST DATASET.                  \n",
    "        leaf_value=self.calculate_leaf_value(y)\n",
    "        return NODE(value=leaf_value)\n",
    "    # FUNCTION WHICH IS USED TO FIND THE BEST PARAMETERS FOR THE GIVEN NODE.\n",
    "    def get_best_split(self,dataset,n_samples,n_features):\n",
    "        best_split={}\n",
    "        # MAXIMUM VALUE IS SET TO - INFINITY SO THAT EVEN FOR THE FIRST FEATURE WE CAN SET IT AS THE BEST FEATURE.\n",
    "        max_info_gain=-float('inf')\n",
    "        # ITERATING OVER EACH FEATURE AND THE CALCULATING INFORMATION GAIN OF EACH THRESHOLD IN THAT FEATURE THEN AT THE END REUTNING THE DICTIONARY CONTAINING THE FEATURE AND THRESHOLD HAVING MAXIMUM INFORMATION GAIN.                  \n",
    "        for feature_index in range(n_features):\n",
    "            features_values=dataset[:,feature_index]\n",
    "            possible_thresholds=np.unique(features_values)\n",
    "                          \n",
    "            for threshold in possible_thresholds:\n",
    "                dataset_left,dataset_right=self.split(dataset,feature_index,threshold)\n",
    "                if len(dataset_left)>0 and len(dataset_right)>0:\n",
    "                    y,left_y,right_y=dataset[:,:-1] ,dataset_left[:,-1],dataset_right[:,-1]\n",
    "                    curr_info_gain=self.information_gain(y,left_y,right_y,'gini')\n",
    "                    if curr_info_gain>max_info_gain:\n",
    "                        best_split['feature_index']=feature_index\n",
    "                        best_split['threshold']=threshold\n",
    "                        best_split['dataset_left']=dataset_left\n",
    "                        best_split['dataset_right']=dataset_right\n",
    "                        best_split['info_gain']=curr_info_gain\n",
    "                        max_info_gain=curr_info_gain\n",
    "                                                \n",
    "        return(best_split)\n",
    "    # FUNTION TO SPLIT THE DECISION NODE TO RIGHT CHILD AND LEFT CHILD FOR EACH FEATURE AND DIFFERENT THRESHOLD DURING BEST SPLIT EVALUATION.\n",
    "    def split(self,dataset,feature_index,threshold):\n",
    "        dataset_left=np.array([row for row in dataset if row[feature_index]<=threshold])\n",
    "        dataset_right=np.array([row for row in dataset if row[feature_index]>threshold])\n",
    "        return(dataset_left,dataset_right)\n",
    "    # FUNCTION TO FIND THE INFORMATION GAIN TO DECIDE THE BEST SPLIT\n",
    "    def information_gain(self,parent,l_child,r_child,mode='entropy'):\n",
    "        # DETERMINING THE WEIGHTS OF CHILD FORMED WHICH IS (TOTAL DATAPOINTS IN CHILD NODE/ TOTAL DATAPOINT IN THE PARENT NODE).\n",
    "        weight_l=len(l_child)/len(parent)\n",
    "        weight_r=len(r_child)/len(parent)\n",
    "        if mode=='gini':\n",
    "            gain=self.gini_index(parent)-(weight_l*self.gini_index(l_child)+weight_r*self.gini_index(r_child))\n",
    "        else:\n",
    "            gain=self.entropy(parent)-(weight_l*self.entorpy(l_child)+weight_r*self.entorpy(r_child))\n",
    "        return(gain)\n",
    "    # FUCNTION TO FIND THE ENTROPY WHICH IS THE MEASURE OF MIXTURE OF CLASSES IN CHILD FORMED. IT ONE WHEN ONLY ONE CLASS IS PRESENT OR CALCULATED AS FOLLOWS.\n",
    "    def entorpy(self,y):\n",
    "        class_labels=np.unique(y)\n",
    "        entropy=0\n",
    "        for i in class_labels:\n",
    "            pi=len(y[y==i])/len(y)\n",
    "            entropy=entropy+np.log2(pi)\n",
    "        return(entropy)\n",
    "    \n",
    "    # SIMILAR TO ENTROPY BUT LESS COMPUTATION POWER DUE TO ABSENCE OF LOG FUNCTION IN THE FORMULA.\n",
    "    def gini_index(self,y):\n",
    "        class_labels=np.unique(y)\n",
    "        gini=0\n",
    "        for i in class_labels:\n",
    "            pi=len(y[y==i])/len(y)\n",
    "            gini=gini+(pi**2)\n",
    "        return 1-gini\n",
    "    def calculate_leaf_value(self,y):\n",
    "        y=list(y)\n",
    "        return(max(y,key=y.count))\n",
    "    # FUNCTION TO PASS TRAINING DATASET TO THE MODEL.\n",
    "    def fit(self,x,y,dataset):\n",
    "\n",
    "        self.root=self.Build_Tree(dataset)\n",
    "    # FUNCTION TO FIND THE MODEL PREDICTIONS ON TEST DATASET.     \n",
    "    def predict(self,x):\n",
    "        predictions=[self.make_prediction(i,self.root) for i in x]\n",
    "        return(predictions)\n",
    "    # FUNCTION TO PREDICT THE CLASS OF THE DATAPOINT GIVEN.\n",
    "    def make_prediction(self,x,tree):\n",
    "        # THIS CONDITION IS USED TO DECIDE WEATHER A NODE IS LEAF NODE OR THE DECISON NODE AS IN THE TREE METHOD WE HAVE PASSED THE VALUE ONLY IN CASE OF LEAF NODE AND IN REST OF THE CASES IT WILL BE SET TO NONE.\n",
    "        if tree.value!=None:\n",
    "            return tree.value\n",
    "        # IF THE NODE IS DECISION NODE THEN WE WILL BE PASSING THE DATA THROUGH THE TREE FURHTER BASED UPON THE THRESHOLD VALUE.\n",
    "        feature_val=x[tree.feature_index]\n",
    "        if feature_val<=tree.threshold:\n",
    "            return(self.make_prediction(x,tree.left_child))\n",
    "        else:\n",
    "            return(self.make_prediction(x,tree.right_child))\n",
    "            \n",
    "                          \n",
    "                          \n",
    "                          \n",
    "                          \n",
    "    "
   ]
  },
  {
   "cell_type": "markdown",
   "id": "14039c2a",
   "metadata": {
    "papermill": {
     "duration": 0.004719,
     "end_time": "2023-07-15T08:10:54.940434",
     "exception": false,
     "start_time": "2023-07-15T08:10:54.935715",
     "status": "completed"
    },
    "tags": []
   },
   "source": [
    "# PREPROCESSING THE DATA AND SPLITTING IT INTO 80:20 RATIO."
   ]
  },
  {
   "cell_type": "code",
   "execution_count": 5,
   "id": "b6bd7774",
   "metadata": {
    "execution": {
     "iopub.execute_input": "2023-07-15T08:10:54.951764Z",
     "iopub.status.busy": "2023-07-15T08:10:54.951423Z",
     "iopub.status.idle": "2023-07-15T08:10:54.967092Z",
     "shell.execute_reply": "2023-07-15T08:10:54.966318Z"
    },
    "papermill": {
     "duration": 0.023456,
     "end_time": "2023-07-15T08:10:54.968810",
     "exception": false,
     "start_time": "2023-07-15T08:10:54.945354",
     "status": "completed"
    },
    "tags": []
   },
   "outputs": [],
   "source": [
    "import random\n",
    "split_index=int(len(data)*0.80)\n",
    "\n",
    "data_train=data[:split_index]\n",
    "data_test=data[split_index:]\n",
    "X_train=data_train.drop('quality',axis=1)\n",
    "Y_train=data_train['quality']\n",
    "X_test=data_test.drop('quality',axis=1)\n",
    "Y_test=data_test['quality']"
   ]
  },
  {
   "cell_type": "markdown",
   "id": "cfa3e4a7",
   "metadata": {
    "papermill": {
     "duration": 0.004649,
     "end_time": "2023-07-15T08:10:54.978613",
     "exception": false,
     "start_time": "2023-07-15T08:10:54.973964",
     "status": "completed"
    },
    "tags": []
   },
   "source": [
    "# NORMALIZING THE DATA WITH MAXIMUM AND MINIMUM VALUE OF THE FEATURES."
   ]
  },
  {
   "cell_type": "code",
   "execution_count": 6,
   "id": "d382da6a",
   "metadata": {
    "execution": {
     "iopub.execute_input": "2023-07-15T08:10:54.990433Z",
     "iopub.status.busy": "2023-07-15T08:10:54.989626Z",
     "iopub.status.idle": "2023-07-15T08:10:55.012600Z",
     "shell.execute_reply": "2023-07-15T08:10:55.011225Z"
    },
    "papermill": {
     "duration": 0.031379,
     "end_time": "2023-07-15T08:10:55.014931",
     "exception": false,
     "start_time": "2023-07-15T08:10:54.983552",
     "status": "completed"
    },
    "tags": []
   },
   "outputs": [],
   "source": [
    "columns=data.drop('quality',axis=1).columns.tolist()\n",
    "for i in columns:\n",
    "    X_train[str(i)]=(X_train[str(i)]-min(X_train[str(i)]))/(max(X_train[str(i)])-min(X_train[str(i)]))\n",
    "for i in columns:\n",
    "    X_test[str(i)]=(X_test[str(i)]-min(X_test[str(i)]))/(max(X_test[str(i)])-min(X_test[str(i)]))    \n",
    "\n",
    "   \n"
   ]
  },
  {
   "cell_type": "markdown",
   "id": "7d86bef6",
   "metadata": {
    "papermill": {
     "duration": 0.004694,
     "end_time": "2023-07-15T08:10:55.024939",
     "exception": false,
     "start_time": "2023-07-15T08:10:55.020245",
     "status": "completed"
    },
    "tags": []
   },
   "source": [
    "# CREATING THE INSTANCES OF THE CLASS AND FITTING THE MODEL GO GENERATE THE TREE."
   ]
  },
  {
   "cell_type": "code",
   "execution_count": 7,
   "id": "51a7a2b2",
   "metadata": {
    "execution": {
     "iopub.execute_input": "2023-07-15T08:10:55.036380Z",
     "iopub.status.busy": "2023-07-15T08:10:55.035934Z",
     "iopub.status.idle": "2023-07-15T08:12:24.702407Z",
     "shell.execute_reply": "2023-07-15T08:12:24.701344Z"
    },
    "papermill": {
     "duration": 89.674874,
     "end_time": "2023-07-15T08:12:24.704617",
     "exception": false,
     "start_time": "2023-07-15T08:10:55.029743",
     "status": "completed"
    },
    "tags": []
   },
   "outputs": [],
   "source": [
    "decision_tree=TREE(min_samples=3,max_depth=3)\n",
    "decision_tree.fit(np.array(X_train),np.array(Y_train),np.array(data_train))\n"
   ]
  },
  {
   "cell_type": "markdown",
   "id": "74f07edc",
   "metadata": {
    "papermill": {
     "duration": 0.004656,
     "end_time": "2023-07-15T08:12:24.714656",
     "exception": false,
     "start_time": "2023-07-15T08:12:24.710000",
     "status": "completed"
    },
    "tags": []
   },
   "source": [
    "# PREDICTING THE QUALITY OF THE DATAPOINTS BY PASSING THROUGH THE PREVIOUSLY BUILD TREE FINDING THE ACCURACY OF THE MODEL."
   ]
  },
  {
   "cell_type": "code",
   "execution_count": 8,
   "id": "9cd033db",
   "metadata": {
    "execution": {
     "iopub.execute_input": "2023-07-15T08:12:24.725414Z",
     "iopub.status.busy": "2023-07-15T08:12:24.725106Z",
     "iopub.status.idle": "2023-07-15T08:12:24.733467Z",
     "shell.execute_reply": "2023-07-15T08:12:24.732404Z"
    },
    "papermill": {
     "duration": 0.016458,
     "end_time": "2023-07-15T08:12:24.735807",
     "exception": false,
     "start_time": "2023-07-15T08:12:24.719349",
     "status": "completed"
    },
    "tags": []
   },
   "outputs": [
    {
     "name": "stdout",
     "output_type": "stream",
     "text": [
      "44.6875\n"
     ]
    }
   ],
   "source": [
    "Y_pred=decision_tree.predict(np.array(X_test))\n",
    "def accuracy(Y_pred,Y_test):\n",
    "    return(np.sum(Y_pred==Y_test)/len(Y_test))\n",
    "print(accuracy(Y_pred,Y_test)*100)"
   ]
  },
  {
   "cell_type": "markdown",
   "id": "b8e2bec2",
   "metadata": {
    "papermill": {
     "duration": 0.005195,
     "end_time": "2023-07-15T08:12:24.746783",
     "exception": false,
     "start_time": "2023-07-15T08:12:24.741588",
     "status": "completed"
    },
    "tags": []
   },
   "source": [
    "# VIZUALIZATION OF THE PERFORMANCE OF THE MODEL USING VARIOUS EVALUATION METRICS."
   ]
  },
  {
   "cell_type": "code",
   "execution_count": 9,
   "id": "0aa08e0e",
   "metadata": {
    "execution": {
     "iopub.execute_input": "2023-07-15T08:12:24.758995Z",
     "iopub.status.busy": "2023-07-15T08:12:24.758196Z",
     "iopub.status.idle": "2023-07-15T08:12:25.140797Z",
     "shell.execute_reply": "2023-07-15T08:12:25.139695Z"
    },
    "papermill": {
     "duration": 0.391025,
     "end_time": "2023-07-15T08:12:25.142978",
     "exception": false,
     "start_time": "2023-07-15T08:12:24.751953",
     "status": "completed"
    },
    "tags": []
   },
   "outputs": [
    {
     "data": {
      "text/plain": [
       "array([[  0,   0,   0,   0,   0,   0],\n",
       "       [  0,   0,   0,   0,   0,   0],\n",
       "       [  5,  11, 143, 136,  22,   3],\n",
       "       [  0,   0,   0,   0,   0,   0],\n",
       "       [  0,   0,   0,   0,   0,   0],\n",
       "       [  0,   0,   0,   0,   0,   0]])"
      ]
     },
     "execution_count": 9,
     "metadata": {},
     "output_type": "execute_result"
    }
   ],
   "source": [
    "from sklearn.metrics import confusion_matrix\n",
    "import scikitplot as skplt \n",
    "confusion_matrix=confusion_matrix(Y_pred,Y_test)\n",
    "confusion_matrix"
   ]
  },
  {
   "cell_type": "code",
   "execution_count": 10,
   "id": "ae19aa89",
   "metadata": {
    "execution": {
     "iopub.execute_input": "2023-07-15T08:12:25.155352Z",
     "iopub.status.busy": "2023-07-15T08:12:25.154979Z",
     "iopub.status.idle": "2023-07-15T08:12:25.162238Z",
     "shell.execute_reply": "2023-07-15T08:12:25.161396Z"
    },
    "papermill": {
     "duration": 0.015923,
     "end_time": "2023-07-15T08:12:25.164487",
     "exception": false,
     "start_time": "2023-07-15T08:12:25.148564",
     "status": "completed"
    },
    "tags": []
   },
   "outputs": [],
   "source": [
    "PRECISION={}\n",
    "RECALL={}\n",
    "ACCURACY={}\n",
    "F1_SCORE={}\n",
    "for i in range(confusion_matrix.shape[0]):\n",
    "    TP=confusion_matrix[i,i]\n",
    "    FP=confusion_matrix[i,:].sum()-TP\n",
    "    FN=confusion_matrix[:,i].sum()-TP\n",
    "    TN=confusion_matrix.sum().sum()-TP-FP-FN\n",
    "    if TP==0 and FP==0:\n",
    "        ACCURACY[i]=(TP+TN)/confusion_matrix.sum().sum()\n",
    "        PRECISION[i]=0\n",
    "        RECALL[i]=TP/(TP+FN)\n",
    "        F1_SCORE[i]=0\n",
    "    else:\n",
    "        ACCURACY[i]=(TP+TN)/confusion_matrix.sum().sum()\n",
    "        PRECISION[i]=TP/(TP+FP)\n",
    "        RECALL[i]=TP/(TP+FN)\n",
    "        F1_SCORE[i]=(2*PRECISION[i]*RECALL[i])/(PRECISION[i]+RECALL[i])\n"
   ]
  },
  {
   "cell_type": "code",
   "execution_count": 11,
   "id": "378b1ffa",
   "metadata": {
    "execution": {
     "iopub.execute_input": "2023-07-15T08:12:25.176662Z",
     "iopub.status.busy": "2023-07-15T08:12:25.176278Z",
     "iopub.status.idle": "2023-07-15T08:12:25.181252Z",
     "shell.execute_reply": "2023-07-15T08:12:25.180053Z"
    },
    "papermill": {
     "duration": 0.013751,
     "end_time": "2023-07-15T08:12:25.183709",
     "exception": false,
     "start_time": "2023-07-15T08:12:25.169958",
     "status": "completed"
    },
    "tags": []
   },
   "outputs": [],
   "source": [
    "A=ACCURACY.values()\n",
    "R=RECALL.values()\n",
    "P=PRECISION.values()\n",
    "F1=F1_SCORE.values()"
   ]
  },
  {
   "cell_type": "code",
   "execution_count": 12,
   "id": "fded8a80",
   "metadata": {
    "execution": {
     "iopub.execute_input": "2023-07-15T08:12:25.196245Z",
     "iopub.status.busy": "2023-07-15T08:12:25.195702Z",
     "iopub.status.idle": "2023-07-15T08:12:25.566200Z",
     "shell.execute_reply": "2023-07-15T08:12:25.564978Z"
    },
    "papermill": {
     "duration": 0.379231,
     "end_time": "2023-07-15T08:12:25.568377",
     "exception": false,
     "start_time": "2023-07-15T08:12:25.189146",
     "status": "completed"
    },
    "tags": []
   },
   "outputs": [
    {
     "data": {
      "text/plain": [
       "<Axes: title={'center': 'Confusion Matrix'}, xlabel='Predicted label', ylabel='True label'>"
      ]
     },
     "execution_count": 12,
     "metadata": {},
     "output_type": "execute_result"
    },
    {
     "data": {
      "image/png": "[encoded data removed]",
      "text/plain": [
       "<Figure size 640x480 with 2 Axes>"
      ]
     },
     "metadata": {},
     "output_type": "display_data"
    }
   ],
   "source": [
    "skplt.metrics.plot_confusion_matrix(Y_pred,Y_test)"
   ]
  },
  {
   "cell_type": "code",
   "execution_count": 13,
   "id": "169f9e60",
   "metadata": {
    "execution": {
     "iopub.execute_input": "2023-07-15T08:12:25.581431Z",
     "iopub.status.busy": "2023-07-15T08:12:25.581039Z",
     "iopub.status.idle": "2023-07-15T08:12:25.773189Z",
     "shell.execute_reply": "2023-07-15T08:12:25.771806Z"
    },
    "papermill": {
     "duration": 0.201308,
     "end_time": "2023-07-15T08:12:25.775390",
     "exception": false,
     "start_time": "2023-07-15T08:12:25.574082",
     "status": "completed"
    },
    "tags": []
   },
   "outputs": [
    {
     "data": {
      "image/png": "[encoded data removed]",
      "text/plain": [
       "<Figure size 640x480 with 1 Axes>"
      ]
     },
     "metadata": {},
     "output_type": "display_data"
    }
   ],
   "source": [
    "\n",
    "f,ax=plt.subplots(1)\n",
    "ax.plot([3,4,5,6,7,8],np.array(list(A)))\n",
    "plt.title('CLASSWISE ACCURCAY')\n",
    "plt.xlabel('CLASS')\n",
    "plt.ylabel('ACCURACY')\n",
    "plt.show()"
   ]
  },
  {
   "cell_type": "code",
   "execution_count": 14,
   "id": "3a2f177b",
   "metadata": {
    "execution": {
     "iopub.execute_input": "2023-07-15T08:12:25.788844Z",
     "iopub.status.busy": "2023-07-15T08:12:25.788504Z",
     "iopub.status.idle": "2023-07-15T08:12:26.110985Z",
     "shell.execute_reply": "2023-07-15T08:12:26.110154Z"
    },
    "papermill": {
     "duration": 0.331109,
     "end_time": "2023-07-15T08:12:26.112596",
     "exception": false,
     "start_time": "2023-07-15T08:12:25.781487",
     "status": "completed"
    },
    "tags": []
   },
   "outputs": [
    {
     "data": {
      "image/png": "[encoded data removed]",
      "text/plain": [
       "<Figure size 640x480 with 1 Axes>"
      ]
     },
     "metadata": {},
     "output_type": "display_data"
    }
   ],
   "source": [
    "f,ax=plt.subplots(1)\n",
    "ax.plot([3,4,5,6,7,8],np.array(list(P)))\n",
    "plt.title('CLASSWISE PRECISION')\n",
    "plt.xlabel('CLASS')\n",
    "plt.ylabel('PRECISION')\n",
    "plt.show()"
   ]
  },
  {
   "cell_type": "code",
   "execution_count": 15,
   "id": "827d3f73",
   "metadata": {
    "execution": {
     "iopub.execute_input": "2023-07-15T08:12:26.126781Z",
     "iopub.status.busy": "2023-07-15T08:12:26.125979Z",
     "iopub.status.idle": "2023-07-15T08:12:26.308798Z",
     "shell.execute_reply": "2023-07-15T08:12:26.307956Z"
    },
    "papermill": {
     "duration": 0.191621,
     "end_time": "2023-07-15T08:12:26.310494",
     "exception": false,
     "start_time": "2023-07-15T08:12:26.118873",
     "status": "completed"
    },
    "tags": []
   },
   "outputs": [
    {
     "data": {
      "image/png": "[encoded data removed]",
      "text/plain": [
       "<Figure size 640x480 with 1 Axes>"
      ]
     },
     "metadata": {},
     "output_type": "display_data"
    }
   ],
   "source": [
    "f,ax=plt.subplots(1)\n",
    "ax.plot([3,4,5,6,7,8],np.array(list(R)))\n",
    "plt.title('CLASSWISE RECALL')\n",
    "plt.xlabel('CLASS')\n",
    "plt.ylabel('RECALL')\n",
    "plt.show()"
   ]
  },
  {
   "cell_type": "code",
   "execution_count": 16,
   "id": "cb7dc3ff",
   "metadata": {
    "execution": {
     "iopub.execute_input": "2023-07-15T08:12:26.325997Z",
     "iopub.status.busy": "2023-07-15T08:12:26.324488Z",
     "iopub.status.idle": "2023-07-15T08:12:26.499588Z",
     "shell.execute_reply": "2023-07-15T08:12:26.498517Z"
    },
    "papermill": {
     "duration": 0.184358,
     "end_time": "2023-07-15T08:12:26.501417",
     "exception": false,
     "start_time": "2023-07-15T08:12:26.317059",
     "status": "completed"
    },
    "tags": []
   },
   "outputs": [
    {
     "data": {
      "image/png": "[encoded data removed]",
      "text/plain": [
       "<Figure size 640x480 with 1 Axes>"
      ]
     },
     "metadata": {},
     "output_type": "display_data"
    }
   ],
   "source": [
    "f,ax=plt.subplots(1)\n",
    "ax.plot([3,4,5,6,7,8],np.array(list(F1)))\n",
    "plt.title('CLASSWISE F1_SCCORE')\n",
    "plt.xlabel('CLASS')\n",
    "plt.ylabel('F1_SCORE')\n",
    "plt.show()"
   ]
  },
  {
   "cell_type": "code",
   "execution_count": null,
   "id": "76773ff1",
   "metadata": {
    "papermill": {
     "duration": 0.007745,
     "end_time": "2023-07-15T08:12:26.516019",
     "exception": false,
     "start_time": "2023-07-15T08:12:26.508274",
     "status": "completed"
    },
    "tags": []
   },
   "outputs": [],
   "source": []
  }
 ],
 "metadata": {
  "kernelspec": {
   "display_name": "Python 3",
   "language": "python",
   "name": "python3"
  },
  "language_info": {
   "codemirror_mode": {
    "name": "ipython",
    "version": 3
   },
   "file_extension": ".py",
   "mimetype": "text/x-python",
   "name": "python",
   "nbconvert_exporter": "python",
   "pygments_lexer": "ipython3",
   "version": "3.10.12"
  },
  "papermill": {
   "default_parameters": {},
   "duration": 102.344923,
   "end_time": "2023-07-15T08:12:27.443985",
   "environment_variables": {},
   "exception": null,
   "input_path": "__notebook__.ipynb",
   "output_path": "__notebook__.ipynb",
   "parameters": {},
   "start_time": "2023-07-15T08:10:45.099062",
   "version": "2.4.0"
  }
 },
 "nbformat": 4,
 "nbformat_minor": 5
}
