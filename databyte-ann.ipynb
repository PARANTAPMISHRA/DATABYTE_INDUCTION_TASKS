{
 "cells": [
  {
   "cell_type": "code",
   "execution_count": 1,
   "id": "e3afbd7a",
   "metadata": {
    "execution": {
     "iopub.execute_input": "2023-07-13T09:23:35.429688Z",
     "iopub.status.busy": "2023-07-13T09:23:35.429105Z",
     "iopub.status.idle": "2023-07-13T09:23:45.807680Z",
     "shell.execute_reply": "2023-07-13T09:23:45.806253Z"
    },
    "papermill": {
     "duration": 10.390319,
     "end_time": "2023-07-13T09:23:45.810775",
     "exception": false,
     "start_time": "2023-07-13T09:23:35.420456",
     "status": "completed"
    },
    "tags": []
   },
   "outputs": [
    {
     "name": "stderr",
     "output_type": "stream",
     "text": [
      "/opt/conda/lib/python3.10/site-packages/scipy/__init__.py:146: UserWarning: A NumPy version >=1.16.5 and <1.23.0 is required for this version of SciPy (detected version 1.23.5\n",
      "  warnings.warn(f\"A NumPy version >={np_minversion} and <{np_maxversion}\"\n",
      "/opt/conda/lib/python3.10/site-packages/tensorflow_io/python/ops/__init__.py:98: UserWarning: unable to load libtensorflow_io_plugins.so: unable to open file: libtensorflow_io_plugins.so, from paths: ['/opt/conda/lib/python3.10/site-packages/tensorflow_io/python/ops/libtensorflow_io_plugins.so']\n",
      "caused by: ['/opt/conda/lib/python3.10/site-packages/tensorflow_io/python/ops/libtensorflow_io_plugins.so: undefined symbol: _ZN3tsl6StatusC1EN10tensorflow5error4CodeESt17basic_string_viewIcSt11char_traitsIcEENS_14SourceLocationE']\n",
      "  warnings.warn(f\"unable to load libtensorflow_io_plugins.so: {e}\")\n",
      "/opt/conda/lib/python3.10/site-packages/tensorflow_io/python/ops/__init__.py:104: UserWarning: file system plugins are not loaded: unable to open file: libtensorflow_io.so, from paths: ['/opt/conda/lib/python3.10/site-packages/tensorflow_io/python/ops/libtensorflow_io.so']\n",
      "caused by: ['/opt/conda/lib/python3.10/site-packages/tensorflow_io/python/ops/libtensorflow_io.so: undefined symbol: _ZTVN10tensorflow13GcsFileSystemE']\n",
      "  warnings.warn(f\"file system plugins are not loaded: {e}\")\n"
     ]
    }
   ],
   "source": [
    "import numpy as np\n",
    "import pandas  as pd\n",
    "import matplotlib.pyplot as plt\n",
    "import tensorflow as tf \n",
    "from tensorflow.keras.models import Sequential\n",
    "from tensorflow.keras.layers import Dense"
   ]
  },
  {
   "cell_type": "markdown",
   "id": "c0a57190",
   "metadata": {
    "papermill": {
     "duration": 0.006434,
     "end_time": "2023-07-13T09:23:45.823830",
     "exception": false,
     "start_time": "2023-07-13T09:23:45.817396",
     "status": "completed"
    },
    "tags": []
   },
   "source": [
    "# LOADING THE DATASET."
   ]
  },
  {
   "cell_type": "code",
   "execution_count": 2,
   "id": "1cc451d3",
   "metadata": {
    "execution": {
     "iopub.execute_input": "2023-07-13T09:23:45.840116Z",
     "iopub.status.busy": "2023-07-13T09:23:45.838727Z",
     "iopub.status.idle": "2023-07-13T09:23:46.953342Z",
     "shell.execute_reply": "2023-07-13T09:23:46.952043Z"
    },
    "papermill": {
     "duration": 1.125629,
     "end_time": "2023-07-13T09:23:46.956070",
     "exception": false,
     "start_time": "2023-07-13T09:23:45.830441",
     "status": "completed"
    },
    "tags": []
   },
   "outputs": [],
   "source": [
    "data=pd.read_excel(r'/kaggle/input/red-wine-dataset-from-uci-repository/REDWINE DATASET.xlsx')"
   ]
  },
  {
   "cell_type": "markdown",
   "id": "a5dd776d",
   "metadata": {
    "papermill": {
     "duration": 0.005981,
     "end_time": "2023-07-13T09:23:46.969048",
     "exception": false,
     "start_time": "2023-07-13T09:23:46.963067",
     "status": "completed"
    },
    "tags": []
   },
   "source": [
    "# SPLITTING THE DATASET"
   ]
  },
  {
   "cell_type": "code",
   "execution_count": 3,
   "id": "3c0d4fa8",
   "metadata": {
    "execution": {
     "iopub.execute_input": "2023-07-13T09:23:46.983778Z",
     "iopub.status.busy": "2023-07-13T09:23:46.982993Z",
     "iopub.status.idle": "2023-07-13T09:23:47.012246Z",
     "shell.execute_reply": "2023-07-13T09:23:47.010970Z"
    },
    "papermill": {
     "duration": 0.039941,
     "end_time": "2023-07-13T09:23:47.015180",
     "exception": false,
     "start_time": "2023-07-13T09:23:46.975239",
     "status": "completed"
    },
    "tags": []
   },
   "outputs": [],
   "source": [
    "X=data.drop('quality',axis=1)\n",
    "Y=data['quality']\n",
    "split_value=int(len(X)*0.8)\n",
    "X_train=X[:split_value]\n",
    "Y_train=Y[:split_value]\n",
    "X_test=X[split_value:]\n",
    "Y_test=Y[split_value:]\n",
    "label_map={3:0,4:1,5:2,6:3,7:4,8:5}\n",
    "Y_train=Y_train.map(label_map)\n",
    "Y_test=Y_test.map(label_map)\n",
    "X_test=tf.keras.utils.normalize(X_test,axis=-1)  # RE-MAPPING THE CLASS LABELS AS DURING EDA WE GOT TO KNOW ONLY 6 CLASSE[3,4,5,6,7,8] ARE THERE IN THE LABEL.\n",
    "X_train=tf.keras.utils.normalize(X_train,axis=-1)"
   ]
  },
  {
   "cell_type": "markdown",
   "id": "7a99629c",
   "metadata": {
    "papermill": {
     "duration": 0.00601,
     "end_time": "2023-07-13T09:23:47.027393",
     "exception": false,
     "start_time": "2023-07-13T09:23:47.021383",
     "status": "completed"
    },
    "tags": []
   },
   "source": [
    "# **CREATING A NEURAL NETWORK ARCHITECTURE USING TENSORLOW.**"
   ]
  },
  {
   "cell_type": "code",
   "execution_count": 4,
   "id": "6501b355",
   "metadata": {
    "execution": {
     "iopub.execute_input": "2023-07-13T09:23:47.041878Z",
     "iopub.status.busy": "2023-07-13T09:23:47.041201Z",
     "iopub.status.idle": "2023-07-13T09:23:47.284389Z",
     "shell.execute_reply": "2023-07-13T09:23:47.283300Z"
    },
    "papermill": {
     "duration": 0.253629,
     "end_time": "2023-07-13T09:23:47.287130",
     "exception": false,
     "start_time": "2023-07-13T09:23:47.033501",
     "status": "completed"
    },
    "tags": []
   },
   "outputs": [],
   "source": [
    "model=Sequential()\n",
    "model.add(Dense(15,input_shape=(11,),activation='relu'))\n",
    "model.add(Dense(15,activation='relu'))\n",
    "model.add(Dense(15,activation='relu'))\n",
    "model.add(Dense(32,activation='tanh'))\n",
    "model.add(Dense(16,activation='relu'))\n",
    "model.add(Dense(6,activation='softmax'))"
   ]
  },
  {
   "cell_type": "markdown",
   "id": "2545e61c",
   "metadata": {
    "papermill": {
     "duration": 0.005896,
     "end_time": "2023-07-13T09:23:47.299133",
     "exception": false,
     "start_time": "2023-07-13T09:23:47.293237",
     "status": "completed"
    },
    "tags": []
   },
   "source": [
    "# COMPLING THE DATA ON THE TRAIN DATASET."
   ]
  },
  {
   "cell_type": "code",
   "execution_count": 5,
   "id": "6d19a1b2",
   "metadata": {
    "execution": {
     "iopub.execute_input": "2023-07-13T09:23:47.313035Z",
     "iopub.status.busy": "2023-07-13T09:23:47.312609Z",
     "iopub.status.idle": "2023-07-13T09:23:47.333167Z",
     "shell.execute_reply": "2023-07-13T09:23:47.332232Z"
    },
    "papermill": {
     "duration": 0.030619,
     "end_time": "2023-07-13T09:23:47.335779",
     "exception": false,
     "start_time": "2023-07-13T09:23:47.305160",
     "status": "completed"
    },
    "tags": []
   },
   "outputs": [],
   "source": [
    "model.compile(loss='SparseCategoricalCrossentropy',optimizer='Adam',metrics=['accuracy'])"
   ]
  },
  {
   "cell_type": "markdown",
   "id": "e527b09f",
   "metadata": {
    "papermill": {
     "duration": 0.00711,
     "end_time": "2023-07-13T09:23:47.349016",
     "exception": false,
     "start_time": "2023-07-13T09:23:47.341906",
     "status": "completed"
    },
    "tags": []
   },
   "source": [
    "# FITTING THE DATASET TO THE SEQUENTIAL MODEL."
   ]
  },
  {
   "cell_type": "code",
   "execution_count": 6,
   "id": "5bbc86b9",
   "metadata": {
    "execution": {
     "iopub.execute_input": "2023-07-13T09:23:47.363516Z",
     "iopub.status.busy": "2023-07-13T09:23:47.362632Z",
     "iopub.status.idle": "2023-07-13T09:23:57.735024Z",
     "shell.execute_reply": "2023-07-13T09:23:57.734058Z"
    },
    "papermill": {
     "duration": 10.383002,
     "end_time": "2023-07-13T09:23:57.738010",
     "exception": false,
     "start_time": "2023-07-13T09:23:47.355008",
     "status": "completed"
    },
    "tags": []
   },
   "outputs": [
    {
     "name": "stdout",
     "output_type": "stream",
     "text": [
      "Epoch 1/100\n",
      "40/40 [==============================] - 2s 2ms/step - loss: 1.6317 - accuracy: 0.4206\n",
      "Epoch 2/100\n",
      "40/40 [==============================] - 0s 2ms/step - loss: 1.3253 - accuracy: 0.4214\n",
      "Epoch 3/100\n",
      "40/40 [==============================] - 0s 2ms/step - loss: 1.2023 - accuracy: 0.4590\n",
      "Epoch 4/100\n",
      "40/40 [==============================] - 0s 2ms/step - loss: 1.1669 - accuracy: 0.4715\n",
      "Epoch 5/100\n",
      "40/40 [==============================] - 0s 2ms/step - loss: 1.1484 - accuracy: 0.4902\n",
      "Epoch 6/100\n",
      "40/40 [==============================] - 0s 2ms/step - loss: 1.1376 - accuracy: 0.4879\n",
      "Epoch 7/100\n",
      "40/40 [==============================] - 0s 2ms/step - loss: 1.1329 - accuracy: 0.4965\n",
      "Epoch 8/100\n",
      "40/40 [==============================] - 0s 2ms/step - loss: 1.1305 - accuracy: 0.4934\n",
      "Epoch 9/100\n",
      "40/40 [==============================] - 0s 2ms/step - loss: 1.1270 - accuracy: 0.4808\n",
      "Epoch 10/100\n",
      "40/40 [==============================] - 0s 2ms/step - loss: 1.1222 - accuracy: 0.4965\n",
      "Epoch 11/100\n",
      "40/40 [==============================] - 0s 2ms/step - loss: 1.1210 - accuracy: 0.4980\n",
      "Epoch 12/100\n",
      "40/40 [==============================] - 0s 2ms/step - loss: 1.1185 - accuracy: 0.4996\n",
      "Epoch 13/100\n",
      "40/40 [==============================] - 0s 2ms/step - loss: 1.1177 - accuracy: 0.5090\n",
      "Epoch 14/100\n",
      "40/40 [==============================] - 0s 2ms/step - loss: 1.1237 - accuracy: 0.5074\n",
      "Epoch 15/100\n",
      "40/40 [==============================] - 0s 2ms/step - loss: 1.1178 - accuracy: 0.5027\n",
      "Epoch 16/100\n",
      "40/40 [==============================] - 0s 2ms/step - loss: 1.1148 - accuracy: 0.4957\n",
      "Epoch 17/100\n",
      "40/40 [==============================] - 0s 2ms/step - loss: 1.1138 - accuracy: 0.5027\n",
      "Epoch 18/100\n",
      "40/40 [==============================] - 0s 2ms/step - loss: 1.1116 - accuracy: 0.5020\n",
      "Epoch 19/100\n",
      "40/40 [==============================] - 0s 2ms/step - loss: 1.1109 - accuracy: 0.5082\n",
      "Epoch 20/100\n",
      "40/40 [==============================] - 0s 2ms/step - loss: 1.1076 - accuracy: 0.5020\n",
      "Epoch 21/100\n",
      "40/40 [==============================] - 0s 2ms/step - loss: 1.1085 - accuracy: 0.5113\n",
      "Epoch 22/100\n",
      "40/40 [==============================] - 0s 2ms/step - loss: 1.1068 - accuracy: 0.5012\n",
      "Epoch 23/100\n",
      "40/40 [==============================] - 0s 2ms/step - loss: 1.1032 - accuracy: 0.5027\n",
      "Epoch 24/100\n",
      "40/40 [==============================] - 0s 2ms/step - loss: 1.1050 - accuracy: 0.5129\n",
      "Epoch 25/100\n",
      "40/40 [==============================] - 0s 2ms/step - loss: 1.1005 - accuracy: 0.5262\n",
      "Epoch 26/100\n",
      "40/40 [==============================] - 0s 2ms/step - loss: 1.1035 - accuracy: 0.5051\n",
      "Epoch 27/100\n",
      "40/40 [==============================] - 0s 2ms/step - loss: 1.0966 - accuracy: 0.5121\n",
      "Epoch 28/100\n",
      "40/40 [==============================] - 0s 2ms/step - loss: 1.1022 - accuracy: 0.5121\n",
      "Epoch 29/100\n",
      "40/40 [==============================] - 0s 2ms/step - loss: 1.0983 - accuracy: 0.5129\n",
      "Epoch 30/100\n",
      "40/40 [==============================] - 0s 3ms/step - loss: 1.0916 - accuracy: 0.5238\n",
      "Epoch 31/100\n",
      "40/40 [==============================] - 0s 2ms/step - loss: 1.0900 - accuracy: 0.5152\n",
      "Epoch 32/100\n",
      "40/40 [==============================] - 0s 2ms/step - loss: 1.0932 - accuracy: 0.5254\n",
      "Epoch 33/100\n",
      "40/40 [==============================] - 0s 2ms/step - loss: 1.0957 - accuracy: 0.5113\n",
      "Epoch 34/100\n",
      "40/40 [==============================] - 0s 2ms/step - loss: 1.0796 - accuracy: 0.5223\n",
      "Epoch 35/100\n",
      "40/40 [==============================] - 0s 2ms/step - loss: 1.0866 - accuracy: 0.5145\n",
      "Epoch 36/100\n",
      "40/40 [==============================] - 0s 2ms/step - loss: 1.0767 - accuracy: 0.5184\n",
      "Epoch 37/100\n",
      "40/40 [==============================] - 0s 2ms/step - loss: 1.0707 - accuracy: 0.5184\n",
      "Epoch 38/100\n",
      "40/40 [==============================] - 0s 2ms/step - loss: 1.0699 - accuracy: 0.5356\n",
      "Epoch 39/100\n",
      "40/40 [==============================] - 0s 2ms/step - loss: 1.0656 - accuracy: 0.5238\n",
      "Epoch 40/100\n",
      "40/40 [==============================] - 0s 2ms/step - loss: 1.0570 - accuracy: 0.5434\n",
      "Epoch 41/100\n",
      "40/40 [==============================] - 0s 2ms/step - loss: 1.0579 - accuracy: 0.5395\n",
      "Epoch 42/100\n",
      "40/40 [==============================] - 0s 2ms/step - loss: 1.0570 - accuracy: 0.5301\n",
      "Epoch 43/100\n",
      "40/40 [==============================] - 0s 2ms/step - loss: 1.0436 - accuracy: 0.5536\n",
      "Epoch 44/100\n",
      "40/40 [==============================] - 0s 2ms/step - loss: 1.0394 - accuracy: 0.5489\n",
      "Epoch 45/100\n",
      "40/40 [==============================] - 0s 2ms/step - loss: 1.0348 - accuracy: 0.5504\n",
      "Epoch 46/100\n",
      "40/40 [==============================] - 0s 2ms/step - loss: 1.0329 - accuracy: 0.5418\n",
      "Epoch 47/100\n",
      "40/40 [==============================] - 0s 2ms/step - loss: 1.0364 - accuracy: 0.5520\n",
      "Epoch 48/100\n",
      "40/40 [==============================] - 0s 2ms/step - loss: 1.0367 - accuracy: 0.5582\n",
      "Epoch 49/100\n",
      "40/40 [==============================] - 0s 2ms/step - loss: 1.0204 - accuracy: 0.5543\n",
      "Epoch 50/100\n",
      "40/40 [==============================] - 0s 2ms/step - loss: 1.0292 - accuracy: 0.5543\n",
      "Epoch 51/100\n",
      "40/40 [==============================] - 0s 2ms/step - loss: 1.0106 - accuracy: 0.5731\n",
      "Epoch 52/100\n",
      "40/40 [==============================] - 0s 2ms/step - loss: 1.0126 - accuracy: 0.5614\n",
      "Epoch 53/100\n",
      "40/40 [==============================] - 0s 2ms/step - loss: 1.0114 - accuracy: 0.5692\n",
      "Epoch 54/100\n",
      "40/40 [==============================] - 0s 2ms/step - loss: 1.0115 - accuracy: 0.5645\n",
      "Epoch 55/100\n",
      "40/40 [==============================] - 0s 2ms/step - loss: 1.0021 - accuracy: 0.5668\n",
      "Epoch 56/100\n",
      "40/40 [==============================] - 0s 2ms/step - loss: 1.0064 - accuracy: 0.5715\n",
      "Epoch 57/100\n",
      "40/40 [==============================] - 0s 2ms/step - loss: 0.9966 - accuracy: 0.5661\n",
      "Epoch 58/100\n",
      "40/40 [==============================] - 0s 2ms/step - loss: 0.9974 - accuracy: 0.5676\n",
      "Epoch 59/100\n",
      "40/40 [==============================] - 0s 2ms/step - loss: 0.9951 - accuracy: 0.5723\n",
      "Epoch 60/100\n",
      "40/40 [==============================] - 0s 2ms/step - loss: 0.9985 - accuracy: 0.5700\n",
      "Epoch 61/100\n",
      "40/40 [==============================] - 0s 2ms/step - loss: 0.9926 - accuracy: 0.5770\n",
      "Epoch 62/100\n",
      "40/40 [==============================] - 0s 2ms/step - loss: 0.9892 - accuracy: 0.5778\n",
      "Epoch 63/100\n",
      "40/40 [==============================] - 0s 2ms/step - loss: 1.0217 - accuracy: 0.5434\n",
      "Epoch 64/100\n",
      "40/40 [==============================] - 0s 2ms/step - loss: 1.0076 - accuracy: 0.5473\n",
      "Epoch 65/100\n",
      "40/40 [==============================] - 0s 2ms/step - loss: 0.9851 - accuracy: 0.5739\n",
      "Epoch 66/100\n",
      "40/40 [==============================] - 0s 2ms/step - loss: 0.9937 - accuracy: 0.5606\n",
      "Epoch 67/100\n",
      "40/40 [==============================] - 0s 2ms/step - loss: 0.9784 - accuracy: 0.5731\n",
      "Epoch 68/100\n",
      "40/40 [==============================] - 0s 2ms/step - loss: 0.9875 - accuracy: 0.5770\n",
      "Epoch 69/100\n",
      "40/40 [==============================] - 0s 2ms/step - loss: 0.9742 - accuracy: 0.5731\n",
      "Epoch 70/100\n",
      "40/40 [==============================] - 0s 2ms/step - loss: 0.9748 - accuracy: 0.5684\n",
      "Epoch 71/100\n",
      "40/40 [==============================] - 0s 2ms/step - loss: 0.9732 - accuracy: 0.5833\n",
      "Epoch 72/100\n",
      "40/40 [==============================] - 0s 2ms/step - loss: 0.9803 - accuracy: 0.5809\n",
      "Epoch 73/100\n",
      "40/40 [==============================] - 0s 2ms/step - loss: 1.0012 - accuracy: 0.5731\n",
      "Epoch 74/100\n",
      "40/40 [==============================] - 0s 2ms/step - loss: 1.0010 - accuracy: 0.5520\n",
      "Epoch 75/100\n",
      "40/40 [==============================] - 0s 2ms/step - loss: 0.9666 - accuracy: 0.5833\n",
      "Epoch 76/100\n",
      "40/40 [==============================] - 0s 2ms/step - loss: 0.9672 - accuracy: 0.5786\n",
      "Epoch 77/100\n",
      "40/40 [==============================] - 0s 2ms/step - loss: 0.9645 - accuracy: 0.5817\n",
      "Epoch 78/100\n",
      "40/40 [==============================] - 0s 2ms/step - loss: 0.9699 - accuracy: 0.5817\n",
      "Epoch 79/100\n",
      "40/40 [==============================] - 0s 2ms/step - loss: 0.9652 - accuracy: 0.5856\n",
      "Epoch 80/100\n",
      "40/40 [==============================] - 0s 2ms/step - loss: 0.9805 - accuracy: 0.5629\n",
      "Epoch 81/100\n",
      "40/40 [==============================] - 0s 2ms/step - loss: 0.9668 - accuracy: 0.5684\n",
      "Epoch 82/100\n",
      "40/40 [==============================] - 0s 2ms/step - loss: 0.9696 - accuracy: 0.5715\n",
      "Epoch 83/100\n",
      "40/40 [==============================] - 0s 2ms/step - loss: 0.9586 - accuracy: 0.5809\n",
      "Epoch 84/100\n",
      "40/40 [==============================] - 0s 2ms/step - loss: 0.9592 - accuracy: 0.5911\n",
      "Epoch 85/100\n",
      "40/40 [==============================] - 0s 2ms/step - loss: 0.9559 - accuracy: 0.5856\n",
      "Epoch 86/100\n",
      "40/40 [==============================] - 0s 2ms/step - loss: 0.9570 - accuracy: 0.5817\n",
      "Epoch 87/100\n",
      "40/40 [==============================] - 0s 2ms/step - loss: 0.9704 - accuracy: 0.5895\n",
      "Epoch 88/100\n",
      "40/40 [==============================] - 0s 2ms/step - loss: 0.9658 - accuracy: 0.5762\n",
      "Epoch 89/100\n",
      "40/40 [==============================] - 0s 2ms/step - loss: 0.9694 - accuracy: 0.5778\n",
      "Epoch 90/100\n",
      "40/40 [==============================] - 0s 2ms/step - loss: 0.9577 - accuracy: 0.5880\n",
      "Epoch 91/100\n",
      "40/40 [==============================] - 0s 2ms/step - loss: 0.9608 - accuracy: 0.5856\n",
      "Epoch 92/100\n",
      "40/40 [==============================] - 0s 2ms/step - loss: 0.9597 - accuracy: 0.5841\n",
      "Epoch 93/100\n",
      "40/40 [==============================] - 0s 2ms/step - loss: 0.9495 - accuracy: 0.5833\n",
      "Epoch 94/100\n",
      "40/40 [==============================] - 0s 2ms/step - loss: 0.9523 - accuracy: 0.5942\n",
      "Epoch 95/100\n",
      "40/40 [==============================] - 0s 2ms/step - loss: 0.9780 - accuracy: 0.5653\n",
      "Epoch 96/100\n",
      "40/40 [==============================] - 0s 2ms/step - loss: 0.9636 - accuracy: 0.5911\n",
      "Epoch 97/100\n",
      "40/40 [==============================] - 0s 2ms/step - loss: 0.9510 - accuracy: 0.5848\n",
      "Epoch 98/100\n",
      "40/40 [==============================] - 0s 2ms/step - loss: 0.9479 - accuracy: 0.5919\n",
      "Epoch 99/100\n",
      "40/40 [==============================] - 0s 2ms/step - loss: 0.9476 - accuracy: 0.5927\n",
      "Epoch 100/100\n",
      "40/40 [==============================] - 0s 2ms/step - loss: 0.9486 - accuracy: 0.5872\n"
     ]
    }
   ],
   "source": [
    "# STORING THE MODEL IN fit_data to obtain various plot.\n",
    "fit_data=model.fit(X_train,Y_train,epochs=100,batch_size=32)"
   ]
  },
  {
   "cell_type": "markdown",
   "id": "e0dbd889",
   "metadata": {
    "papermill": {
     "duration": 0.042007,
     "end_time": "2023-07-13T09:23:57.822220",
     "exception": false,
     "start_time": "2023-07-13T09:23:57.780213",
     "status": "completed"
    },
    "tags": []
   },
   "source": [
    "# FINDING THE ACCURACY OF THE MODEL ON THE TEST DATASET. "
   ]
  },
  {
   "cell_type": "code",
   "execution_count": 7,
   "id": "ef388b1d",
   "metadata": {
    "execution": {
     "iopub.execute_input": "2023-07-13T09:23:57.908212Z",
     "iopub.status.busy": "2023-07-13T09:23:57.907749Z",
     "iopub.status.idle": "2023-07-13T09:23:58.195231Z",
     "shell.execute_reply": "2023-07-13T09:23:58.194073Z"
    },
    "papermill": {
     "duration": 0.333552,
     "end_time": "2023-07-13T09:23:58.197965",
     "exception": false,
     "start_time": "2023-07-13T09:23:57.864413",
     "status": "completed"
    },
    "tags": []
   },
   "outputs": [
    {
     "name": "stdout",
     "output_type": "stream",
     "text": [
      "10/10 [==============================] - 0s 2ms/step - loss: 1.0319 - accuracy: 0.5500\n"
     ]
    }
   ],
   "source": [
    "accuracy=model.evaluate(X_test,Y_test)"
   ]
  },
  {
   "cell_type": "markdown",
   "id": "f10aaf11",
   "metadata": {
    "papermill": {
     "duration": 0.043913,
     "end_time": "2023-07-13T09:23:58.284410",
     "exception": false,
     "start_time": "2023-07-13T09:23:58.240497",
     "status": "completed"
    },
    "tags": []
   },
   "source": [
    "# **PLOTTING THG GRAPHS.**"
   ]
  },
  {
   "cell_type": "markdown",
   "id": "cb1be045",
   "metadata": {
    "papermill": {
     "duration": 0.041541,
     "end_time": "2023-07-13T09:23:58.371132",
     "exception": false,
     "start_time": "2023-07-13T09:23:58.329591",
     "status": "completed"
    },
    "tags": []
   },
   "source": [
    "ACCURACY VS EPOCH"
   ]
  },
  {
   "cell_type": "code",
   "execution_count": 8,
   "id": "0fd7ca3f",
   "metadata": {
    "execution": {
     "iopub.execute_input": "2023-07-13T09:23:58.460966Z",
     "iopub.status.busy": "2023-07-13T09:23:58.460128Z",
     "iopub.status.idle": "2023-07-13T09:23:58.761376Z",
     "shell.execute_reply": "2023-07-13T09:23:58.760168Z"
    },
    "papermill": {
     "duration": 0.350258,
     "end_time": "2023-07-13T09:23:58.763744",
     "exception": false,
     "start_time": "2023-07-13T09:23:58.413486",
     "status": "completed"
    },
    "tags": []
   },
   "outputs": [
    {
     "data": {
      "image/png": "[encoded data removed]",
      "text/plain": [
       "<Figure size 640x480 with 1 Axes>"
      ]
     },
     "metadata": {},
     "output_type": "display_data"
    }
   ],
   "source": [
    "accuracy=fit_data.history['accuracy']\n",
    "epoch=range(1,len(accuracy)+1)\n",
    "plt.plot(epoch,accuracy,label='EPOCH AND ACCURACY ')\n",
    "plt.xlabel('Epoch')\n",
    "plt.ylabel('Accuracy')\n",
    "plt.legend()\n",
    "plt.show()"
   ]
  },
  {
   "cell_type": "markdown",
   "id": "a8bd5ab7",
   "metadata": {
    "papermill": {
     "duration": 0.042109,
     "end_time": "2023-07-13T09:23:58.848342",
     "exception": false,
     "start_time": "2023-07-13T09:23:58.806233",
     "status": "completed"
    },
    "tags": []
   },
   "source": [
    "LOSS VS EPOCH"
   ]
  },
  {
   "cell_type": "code",
   "execution_count": 9,
   "id": "e8c1bb4a",
   "metadata": {
    "execution": {
     "iopub.execute_input": "2023-07-13T09:23:58.935241Z",
     "iopub.status.busy": "2023-07-13T09:23:58.934779Z",
     "iopub.status.idle": "2023-07-13T09:23:59.143671Z",
     "shell.execute_reply": "2023-07-13T09:23:59.142394Z"
    },
    "papermill": {
     "duration": 0.255775,
     "end_time": "2023-07-13T09:23:59.146482",
     "exception": false,
     "start_time": "2023-07-13T09:23:58.890707",
     "status": "completed"
    },
    "tags": []
   },
   "outputs": [
    {
     "data": {
      "image/png": "[encoded data removed]",
      "text/plain": [
       "<Figure size 640x480 with 1 Axes>"
      ]
     },
     "metadata": {},
     "output_type": "display_data"
    }
   ],
   "source": [
    "loss=fit_data.history['loss']\n",
    "epoch=range(1,len(loss)+1)\n",
    "plt.plot(epoch,loss)\n",
    "plt.xlabel('Epoch')\n",
    "plt.ylabel('loss')\n",
    "plt.legend()\n",
    "plt.show()"
   ]
  },
  {
   "cell_type": "code",
   "execution_count": null,
   "id": "e73e72b5",
   "metadata": {
    "papermill": {
     "duration": 0.042558,
     "end_time": "2023-07-13T09:23:59.231950",
     "exception": false,
     "start_time": "2023-07-13T09:23:59.189392",
     "status": "completed"
    },
    "tags": []
   },
   "outputs": [],
   "source": []
  }
 ],
 "metadata": {
  "kernelspec": {
   "display_name": "Python 3",
   "language": "python",
   "name": "python3"
  },
  "language_info": {
   "codemirror_mode": {
    "name": "ipython",
    "version": 3
   },
   "file_extension": ".py",
   "mimetype": "text/x-python",
   "name": "python",
   "nbconvert_exporter": "python",
   "pygments_lexer": "ipython3",
   "version": "3.10.12"
  },
  "papermill": {
   "default_parameters": {},
   "duration": 39.807326,
   "end_time": "2023-07-13T09:24:01.592287",
   "environment_variables": {},
   "exception": null,
   "input_path": "__notebook__.ipynb",
   "output_path": "__notebook__.ipynb",
   "parameters": {},
   "start_time": "2023-07-13T09:23:21.784961",
   "version": "2.4.0"
  }
 },
 "nbformat": 4,
 "nbformat_minor": 5
}
